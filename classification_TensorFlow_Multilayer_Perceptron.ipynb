{
  "cells": [
    {
      "cell_type": "markdown",
      "metadata": {
        "id": "view-in-github",
        "colab_type": "text"
      },
      "source": [
        "<a href=\"https://colab.research.google.com/github/nati-curious/data_science_portfolio/blob/main/classification_TensorFlow_Multilayer_Perceptron.ipynb\" target=\"_parent\"><img src=\"https://colab.research.google.com/assets/colab-badge.svg\" alt=\"Open In Colab\"/></a>"
      ]
    },
    {
      "cell_type": "markdown",
      "source": [
        "## **Multiclass classification (thyroid diagnosis) with Multilayer Perceptron**"
      ],
      "metadata": {
        "id": "H1kfug3h3QFv"
      },
      "id": "H1kfug3h3QFv"
    },
    {
      "cell_type": "markdown",
      "source": [
        "# Frameworks and libraries"
      ],
      "metadata": {
        "id": "AxMTWzQ8R6Yd"
      },
      "id": "AxMTWzQ8R6Yd"
    },
    {
      "cell_type": "code",
      "source": [
        "# Install a package for imputation\n",
        "!pip install miceforest --no-cache-dir"
      ],
      "metadata": {
        "colab": {
          "base_uri": "https://localhost:8080/"
        },
        "id": "EUOlWvmmFsI1",
        "outputId": "9be1ddcd-38ab-4471-cb7e-0e5f768a8ebe"
      },
      "id": "EUOlWvmmFsI1",
      "execution_count": null,
      "outputs": [
        {
          "output_type": "stream",
          "name": "stdout",
          "text": [
            "Looking in indexes: https://pypi.org/simple, https://us-python.pkg.dev/colab-wheels/public/simple/\n",
            "Requirement already satisfied: miceforest in /usr/local/lib/python3.10/dist-packages (5.6.3)\n",
            "Requirement already satisfied: lightgbm>=3.3.1 in /usr/local/lib/python3.10/dist-packages (from miceforest) (3.3.5)\n",
            "Requirement already satisfied: numpy in /usr/local/lib/python3.10/dist-packages (from miceforest) (1.22.4)\n",
            "Requirement already satisfied: blosc in /usr/local/lib/python3.10/dist-packages (from miceforest) (1.11.1)\n",
            "Requirement already satisfied: dill in /usr/local/lib/python3.10/dist-packages (from miceforest) (0.3.6)\n",
            "Requirement already satisfied: wheel in /usr/local/lib/python3.10/dist-packages (from lightgbm>=3.3.1->miceforest) (0.40.0)\n",
            "Requirement already satisfied: scipy in /usr/local/lib/python3.10/dist-packages (from lightgbm>=3.3.1->miceforest) (1.10.1)\n",
            "Requirement already satisfied: scikit-learn!=0.22.0 in /usr/local/lib/python3.10/dist-packages (from lightgbm>=3.3.1->miceforest) (1.2.2)\n",
            "Requirement already satisfied: joblib>=1.1.1 in /usr/local/lib/python3.10/dist-packages (from scikit-learn!=0.22.0->lightgbm>=3.3.1->miceforest) (1.2.0)\n",
            "Requirement already satisfied: threadpoolctl>=2.0.0 in /usr/local/lib/python3.10/dist-packages (from scikit-learn!=0.22.0->lightgbm>=3.3.1->miceforest) (3.1.0)\n"
          ]
        }
      ]
    },
    {
      "cell_type": "markdown",
      "source": [
        "*Imputation by Chained Equation (MICE) with LightGBM.\\\n",
        "Chained equations imputation is widely used in medical research.*\n",
        "\n",
        "*Multiple Imputation iteratively 'fills in' missing values in a dataset by modeling each variable as a function of the other variables. The function used in this package is random forests, because they have advantages which work well with the multiple imputation algorithm. For detailed information, see https://github.com/AnotherSamWilson/miceforest*\n",
        "\n"
      ],
      "metadata": {
        "id": "qRCivHwiQIb3"
      },
      "id": "qRCivHwiQIb3"
    },
    {
      "cell_type": "code",
      "execution_count": null,
      "id": "2f3c219f",
      "metadata": {
        "id": "2f3c219f"
      },
      "outputs": [],
      "source": [
        "import numpy as np\n",
        "import pandas as pd\n",
        "from google.colab import files\n",
        "import json\n",
        "import os\n",
        "import warnings\n",
        "warnings.filterwarnings('ignore')\n",
        "\n",
        "import tensorflow as tf\n",
        "from tensorflow import keras\n",
        "from tensorflow.keras import layers, Input, Model, Sequential\n",
        "from tensorflow.keras.layers import Dense, Conv2D, MaxPool2D, Flatten, Activation, Dropout, BatchNormalization\n",
        "from tensorflow.keras.utils import plot_model\n",
        "from tensorflow.keras.callbacks import ModelCheckpoint, EarlyStopping\n",
        "\n",
        "from sklearn.model_selection import train_test_split\n",
        "from sklearn.preprocessing import LabelEncoder, OrdinalEncoder, MinMaxScaler, RobustScaler\n",
        "from sklearn.metrics import accuracy_score, precision_score, recall_score, \\\n",
        "f1_score, confusion_matrix, fbeta_score, classification_report\n",
        "\n",
        "import miceforest as mf\n",
        "\n",
        "import seaborn as sns\n",
        "import matplotlib.pyplot as plt\n",
        "plt.rcParams['figure.figsize'] = (8, 6)\n",
        "plt.style.use('ggplot')\n",
        "%matplotlib inline\n",
        "\n",
        "import logging\n",
        "logger = tf.get_logger()\n",
        "logger.setLevel(logging.ERROR)"
      ]
    },
    {
      "cell_type": "code",
      "source": [
        "# global seeds for reproducibility (make the process stable)\n",
        "tf.random.set_seed(3)\n",
        "\n",
        "from numpy.random import seed\n",
        "seed(777)"
      ],
      "metadata": {
        "id": "YQBZXo_V6U4u"
      },
      "id": "YQBZXo_V6U4u",
      "execution_count": null,
      "outputs": []
    },
    {
      "cell_type": "code",
      "execution_count": null,
      "id": "87bcaa85",
      "metadata": {
        "colab": {
          "base_uri": "https://localhost:8080/"
        },
        "id": "87bcaa85",
        "outputId": "7e9e8b92-0c0c-434a-86cd-096a5c91dee1"
      },
      "outputs": [
        {
          "output_type": "stream",
          "name": "stdout",
          "text": [
            "2.12.0\n"
          ]
        }
      ],
      "source": [
        "print(tf.__version__)"
      ]
    },
    {
      "cell_type": "markdown",
      "source": [
        "# Helper function"
      ],
      "metadata": {
        "id": "pWNnotlWWy8D"
      },
      "id": "pWNnotlWWy8D"
    },
    {
      "cell_type": "code",
      "source": [
        "# Function to evaluate a classification model\n",
        "def report(y_test, yhat_classes):\n",
        "    labels = sorted(np.unique(y_test))\n",
        "    print('\\n===F2 scores:===')\n",
        "    res = fbeta_score(y_test, yhat_classes, beta=2, average=None, labels=labels)\n",
        "    print(pd.DataFrame({'F2':res}, index = labels))\n",
        "\n",
        "    print('\\n===classification report:===')\n",
        "    print(classification_report(y_test, yhat_classes))\n",
        "\n",
        "    print('\\n===confusion matrix===')\n",
        "    sns.heatmap(confusion_matrix(y_test, yhat_classes),\n",
        "                annot=confusion_matrix(y_test, yhat_classes),\n",
        "                xticklabels=labels,\n",
        "                yticklabels=labels);\n",
        "    plt.xticks(horizontalalignment='right')\n",
        "    plt.ylabel('True', fontsize=12)\n",
        "    plt.xlabel('Predicted', fontsize=12)"
      ],
      "metadata": {
        "id": "XMWrBcUlW0q1"
      },
      "id": "XMWrBcUlW0q1",
      "execution_count": null,
      "outputs": []
    },
    {
      "cell_type": "markdown",
      "source": [
        "# EDA and Data Preparation"
      ],
      "metadata": {
        "id": "Iez_gryHnQod"
      },
      "id": "Iez_gryHnQod"
    },
    {
      "cell_type": "code",
      "source": [
        "from google.colab import drive\n",
        "drive.mount('/content/drive')"
      ],
      "metadata": {
        "colab": {
          "base_uri": "https://localhost:8080/"
        },
        "id": "L4gQFmDIZsgA",
        "outputId": "a22148db-6614-4ec1-fd5b-246c9ead5d93"
      },
      "id": "L4gQFmDIZsgA",
      "execution_count": null,
      "outputs": [
        {
          "output_type": "stream",
          "name": "stdout",
          "text": [
            "Drive already mounted at /content/drive; to attempt to forcibly remount, call drive.mount(\"/content/drive\", force_remount=True).\n"
          ]
        }
      ]
    },
    {
      "cell_type": "code",
      "source": [
        "# Upload and read in a dataset\n",
        "df = pd.read_csv('/content/drive/MyDrive/dataset_57_hypothyroid.csv')\n",
        "df"
      ],
      "metadata": {
        "id": "oei2piirv5Yr",
        "colab": {
          "base_uri": "https://localhost:8080/",
          "height": 488
        },
        "outputId": "8ce9bb29-945d-421c-f30a-8f08545558d0"
      },
      "id": "oei2piirv5Yr",
      "execution_count": null,
      "outputs": [
        {
          "output_type": "execute_result",
          "data": {
            "text/plain": [
              "     age sex on_thyroxine query_on_thyroxine on_antithyroid_medication sick  \\\n",
              "0     41   F            f                  f                         f    f   \n",
              "1     23   F            f                  f                         f    f   \n",
              "2     46   M            f                  f                         f    f   \n",
              "3     70   F            t                  f                         f    f   \n",
              "4     70   F            f                  f                         f    f   \n",
              "...   ..  ..          ...                ...                       ...  ...   \n",
              "3767  30   F            f                  f                         f    f   \n",
              "3768  68   F            f                  f                         f    f   \n",
              "3769  74   F            f                  f                         f    f   \n",
              "3770  72   M            f                  f                         f    f   \n",
              "3771  64   F            f                  f                         f    f   \n",
              "\n",
              "     pregnant thyroid_surgery I131_treatment query_hypothyroid  ...  \\\n",
              "0           f               f              f                 f  ...   \n",
              "1           f               f              f                 f  ...   \n",
              "2           f               f              f                 f  ...   \n",
              "3           f               f              f                 f  ...   \n",
              "4           f               f              f                 f  ...   \n",
              "...       ...             ...            ...               ...  ...   \n",
              "3767        f               f              f                 f  ...   \n",
              "3768        f               f              f                 f  ...   \n",
              "3769        f               f              f                 f  ...   \n",
              "3770        f               f              f                 f  ...   \n",
              "3771        f               f              f                 f  ...   \n",
              "\n",
              "     TT4_measured  TT4 T4U_measured   T4U FTI_measured  FTI TBG_measured TBG  \\\n",
              "0               t  125            t  1.14            t  109            f   ?   \n",
              "1               t  102            f     ?            f    ?            f   ?   \n",
              "2               t  109            t  0.91            t  120            f   ?   \n",
              "3               t  175            f     ?            f    ?            f   ?   \n",
              "4               t   61            t  0.87            t   70            f   ?   \n",
              "...           ...  ...          ...   ...          ...  ...          ...  ..   \n",
              "3767            f    ?            f     ?            f    ?            f   ?   \n",
              "3768            t  124            t  1.08            t  114            f   ?   \n",
              "3769            t  112            t  1.07            t  105            f   ?   \n",
              "3770            t   82            t  0.94            t   87            f   ?   \n",
              "3771            t   99            t  1.07            t   92            f   ?   \n",
              "\n",
              "     referral_source     Class  \n",
              "0               SVHC  negative  \n",
              "1              other  negative  \n",
              "2              other  negative  \n",
              "3              other  negative  \n",
              "4                SVI  negative  \n",
              "...              ...       ...  \n",
              "3767           other  negative  \n",
              "3768             SVI  negative  \n",
              "3769           other  negative  \n",
              "3770             SVI  negative  \n",
              "3771           other  negative  \n",
              "\n",
              "[3772 rows x 30 columns]"
            ],
            "text/html": [
              "\n",
              "  <div id=\"df-94660ab5-910e-42b6-8694-3db5d61d7f0b\">\n",
              "    <div class=\"colab-df-container\">\n",
              "      <div>\n",
              "<style scoped>\n",
              "    .dataframe tbody tr th:only-of-type {\n",
              "        vertical-align: middle;\n",
              "    }\n",
              "\n",
              "    .dataframe tbody tr th {\n",
              "        vertical-align: top;\n",
              "    }\n",
              "\n",
              "    .dataframe thead th {\n",
              "        text-align: right;\n",
              "    }\n",
              "</style>\n",
              "<table border=\"1\" class=\"dataframe\">\n",
              "  <thead>\n",
              "    <tr style=\"text-align: right;\">\n",
              "      <th></th>\n",
              "      <th>age</th>\n",
              "      <th>sex</th>\n",
              "      <th>on_thyroxine</th>\n",
              "      <th>query_on_thyroxine</th>\n",
              "      <th>on_antithyroid_medication</th>\n",
              "      <th>sick</th>\n",
              "      <th>pregnant</th>\n",
              "      <th>thyroid_surgery</th>\n",
              "      <th>I131_treatment</th>\n",
              "      <th>query_hypothyroid</th>\n",
              "      <th>...</th>\n",
              "      <th>TT4_measured</th>\n",
              "      <th>TT4</th>\n",
              "      <th>T4U_measured</th>\n",
              "      <th>T4U</th>\n",
              "      <th>FTI_measured</th>\n",
              "      <th>FTI</th>\n",
              "      <th>TBG_measured</th>\n",
              "      <th>TBG</th>\n",
              "      <th>referral_source</th>\n",
              "      <th>Class</th>\n",
              "    </tr>\n",
              "  </thead>\n",
              "  <tbody>\n",
              "    <tr>\n",
              "      <th>0</th>\n",
              "      <td>41</td>\n",
              "      <td>F</td>\n",
              "      <td>f</td>\n",
              "      <td>f</td>\n",
              "      <td>f</td>\n",
              "      <td>f</td>\n",
              "      <td>f</td>\n",
              "      <td>f</td>\n",
              "      <td>f</td>\n",
              "      <td>f</td>\n",
              "      <td>...</td>\n",
              "      <td>t</td>\n",
              "      <td>125</td>\n",
              "      <td>t</td>\n",
              "      <td>1.14</td>\n",
              "      <td>t</td>\n",
              "      <td>109</td>\n",
              "      <td>f</td>\n",
              "      <td>?</td>\n",
              "      <td>SVHC</td>\n",
              "      <td>negative</td>\n",
              "    </tr>\n",
              "    <tr>\n",
              "      <th>1</th>\n",
              "      <td>23</td>\n",
              "      <td>F</td>\n",
              "      <td>f</td>\n",
              "      <td>f</td>\n",
              "      <td>f</td>\n",
              "      <td>f</td>\n",
              "      <td>f</td>\n",
              "      <td>f</td>\n",
              "      <td>f</td>\n",
              "      <td>f</td>\n",
              "      <td>...</td>\n",
              "      <td>t</td>\n",
              "      <td>102</td>\n",
              "      <td>f</td>\n",
              "      <td>?</td>\n",
              "      <td>f</td>\n",
              "      <td>?</td>\n",
              "      <td>f</td>\n",
              "      <td>?</td>\n",
              "      <td>other</td>\n",
              "      <td>negative</td>\n",
              "    </tr>\n",
              "    <tr>\n",
              "      <th>2</th>\n",
              "      <td>46</td>\n",
              "      <td>M</td>\n",
              "      <td>f</td>\n",
              "      <td>f</td>\n",
              "      <td>f</td>\n",
              "      <td>f</td>\n",
              "      <td>f</td>\n",
              "      <td>f</td>\n",
              "      <td>f</td>\n",
              "      <td>f</td>\n",
              "      <td>...</td>\n",
              "      <td>t</td>\n",
              "      <td>109</td>\n",
              "      <td>t</td>\n",
              "      <td>0.91</td>\n",
              "      <td>t</td>\n",
              "      <td>120</td>\n",
              "      <td>f</td>\n",
              "      <td>?</td>\n",
              "      <td>other</td>\n",
              "      <td>negative</td>\n",
              "    </tr>\n",
              "    <tr>\n",
              "      <th>3</th>\n",
              "      <td>70</td>\n",
              "      <td>F</td>\n",
              "      <td>t</td>\n",
              "      <td>f</td>\n",
              "      <td>f</td>\n",
              "      <td>f</td>\n",
              "      <td>f</td>\n",
              "      <td>f</td>\n",
              "      <td>f</td>\n",
              "      <td>f</td>\n",
              "      <td>...</td>\n",
              "      <td>t</td>\n",
              "      <td>175</td>\n",
              "      <td>f</td>\n",
              "      <td>?</td>\n",
              "      <td>f</td>\n",
              "      <td>?</td>\n",
              "      <td>f</td>\n",
              "      <td>?</td>\n",
              "      <td>other</td>\n",
              "      <td>negative</td>\n",
              "    </tr>\n",
              "    <tr>\n",
              "      <th>4</th>\n",
              "      <td>70</td>\n",
              "      <td>F</td>\n",
              "      <td>f</td>\n",
              "      <td>f</td>\n",
              "      <td>f</td>\n",
              "      <td>f</td>\n",
              "      <td>f</td>\n",
              "      <td>f</td>\n",
              "      <td>f</td>\n",
              "      <td>f</td>\n",
              "      <td>...</td>\n",
              "      <td>t</td>\n",
              "      <td>61</td>\n",
              "      <td>t</td>\n",
              "      <td>0.87</td>\n",
              "      <td>t</td>\n",
              "      <td>70</td>\n",
              "      <td>f</td>\n",
              "      <td>?</td>\n",
              "      <td>SVI</td>\n",
              "      <td>negative</td>\n",
              "    </tr>\n",
              "    <tr>\n",
              "      <th>...</th>\n",
              "      <td>...</td>\n",
              "      <td>...</td>\n",
              "      <td>...</td>\n",
              "      <td>...</td>\n",
              "      <td>...</td>\n",
              "      <td>...</td>\n",
              "      <td>...</td>\n",
              "      <td>...</td>\n",
              "      <td>...</td>\n",
              "      <td>...</td>\n",
              "      <td>...</td>\n",
              "      <td>...</td>\n",
              "      <td>...</td>\n",
              "      <td>...</td>\n",
              "      <td>...</td>\n",
              "      <td>...</td>\n",
              "      <td>...</td>\n",
              "      <td>...</td>\n",
              "      <td>...</td>\n",
              "      <td>...</td>\n",
              "      <td>...</td>\n",
              "    </tr>\n",
              "    <tr>\n",
              "      <th>3767</th>\n",
              "      <td>30</td>\n",
              "      <td>F</td>\n",
              "      <td>f</td>\n",
              "      <td>f</td>\n",
              "      <td>f</td>\n",
              "      <td>f</td>\n",
              "      <td>f</td>\n",
              "      <td>f</td>\n",
              "      <td>f</td>\n",
              "      <td>f</td>\n",
              "      <td>...</td>\n",
              "      <td>f</td>\n",
              "      <td>?</td>\n",
              "      <td>f</td>\n",
              "      <td>?</td>\n",
              "      <td>f</td>\n",
              "      <td>?</td>\n",
              "      <td>f</td>\n",
              "      <td>?</td>\n",
              "      <td>other</td>\n",
              "      <td>negative</td>\n",
              "    </tr>\n",
              "    <tr>\n",
              "      <th>3768</th>\n",
              "      <td>68</td>\n",
              "      <td>F</td>\n",
              "      <td>f</td>\n",
              "      <td>f</td>\n",
              "      <td>f</td>\n",
              "      <td>f</td>\n",
              "      <td>f</td>\n",
              "      <td>f</td>\n",
              "      <td>f</td>\n",
              "      <td>f</td>\n",
              "      <td>...</td>\n",
              "      <td>t</td>\n",
              "      <td>124</td>\n",
              "      <td>t</td>\n",
              "      <td>1.08</td>\n",
              "      <td>t</td>\n",
              "      <td>114</td>\n",
              "      <td>f</td>\n",
              "      <td>?</td>\n",
              "      <td>SVI</td>\n",
              "      <td>negative</td>\n",
              "    </tr>\n",
              "    <tr>\n",
              "      <th>3769</th>\n",
              "      <td>74</td>\n",
              "      <td>F</td>\n",
              "      <td>f</td>\n",
              "      <td>f</td>\n",
              "      <td>f</td>\n",
              "      <td>f</td>\n",
              "      <td>f</td>\n",
              "      <td>f</td>\n",
              "      <td>f</td>\n",
              "      <td>f</td>\n",
              "      <td>...</td>\n",
              "      <td>t</td>\n",
              "      <td>112</td>\n",
              "      <td>t</td>\n",
              "      <td>1.07</td>\n",
              "      <td>t</td>\n",
              "      <td>105</td>\n",
              "      <td>f</td>\n",
              "      <td>?</td>\n",
              "      <td>other</td>\n",
              "      <td>negative</td>\n",
              "    </tr>\n",
              "    <tr>\n",
              "      <th>3770</th>\n",
              "      <td>72</td>\n",
              "      <td>M</td>\n",
              "      <td>f</td>\n",
              "      <td>f</td>\n",
              "      <td>f</td>\n",
              "      <td>f</td>\n",
              "      <td>f</td>\n",
              "      <td>f</td>\n",
              "      <td>f</td>\n",
              "      <td>f</td>\n",
              "      <td>...</td>\n",
              "      <td>t</td>\n",
              "      <td>82</td>\n",
              "      <td>t</td>\n",
              "      <td>0.94</td>\n",
              "      <td>t</td>\n",
              "      <td>87</td>\n",
              "      <td>f</td>\n",
              "      <td>?</td>\n",
              "      <td>SVI</td>\n",
              "      <td>negative</td>\n",
              "    </tr>\n",
              "    <tr>\n",
              "      <th>3771</th>\n",
              "      <td>64</td>\n",
              "      <td>F</td>\n",
              "      <td>f</td>\n",
              "      <td>f</td>\n",
              "      <td>f</td>\n",
              "      <td>f</td>\n",
              "      <td>f</td>\n",
              "      <td>f</td>\n",
              "      <td>f</td>\n",
              "      <td>f</td>\n",
              "      <td>...</td>\n",
              "      <td>t</td>\n",
              "      <td>99</td>\n",
              "      <td>t</td>\n",
              "      <td>1.07</td>\n",
              "      <td>t</td>\n",
              "      <td>92</td>\n",
              "      <td>f</td>\n",
              "      <td>?</td>\n",
              "      <td>other</td>\n",
              "      <td>negative</td>\n",
              "    </tr>\n",
              "  </tbody>\n",
              "</table>\n",
              "<p>3772 rows × 30 columns</p>\n",
              "</div>\n",
              "      <button class=\"colab-df-convert\" onclick=\"convertToInteractive('df-94660ab5-910e-42b6-8694-3db5d61d7f0b')\"\n",
              "              title=\"Convert this dataframe to an interactive table.\"\n",
              "              style=\"display:none;\">\n",
              "        \n",
              "  <svg xmlns=\"http://www.w3.org/2000/svg\" height=\"24px\"viewBox=\"0 0 24 24\"\n",
              "       width=\"24px\">\n",
              "    <path d=\"M0 0h24v24H0V0z\" fill=\"none\"/>\n",
              "    <path d=\"M18.56 5.44l.94 2.06.94-2.06 2.06-.94-2.06-.94-.94-2.06-.94 2.06-2.06.94zm-11 1L8.5 8.5l.94-2.06 2.06-.94-2.06-.94L8.5 2.5l-.94 2.06-2.06.94zm10 10l.94 2.06.94-2.06 2.06-.94-2.06-.94-.94-2.06-.94 2.06-2.06.94z\"/><path d=\"M17.41 7.96l-1.37-1.37c-.4-.4-.92-.59-1.43-.59-.52 0-1.04.2-1.43.59L10.3 9.45l-7.72 7.72c-.78.78-.78 2.05 0 2.83L4 21.41c.39.39.9.59 1.41.59.51 0 1.02-.2 1.41-.59l7.78-7.78 2.81-2.81c.8-.78.8-2.07 0-2.86zM5.41 20L4 18.59l7.72-7.72 1.47 1.35L5.41 20z\"/>\n",
              "  </svg>\n",
              "      </button>\n",
              "      \n",
              "  <style>\n",
              "    .colab-df-container {\n",
              "      display:flex;\n",
              "      flex-wrap:wrap;\n",
              "      gap: 12px;\n",
              "    }\n",
              "\n",
              "    .colab-df-convert {\n",
              "      background-color: #E8F0FE;\n",
              "      border: none;\n",
              "      border-radius: 50%;\n",
              "      cursor: pointer;\n",
              "      display: none;\n",
              "      fill: #1967D2;\n",
              "      height: 32px;\n",
              "      padding: 0 0 0 0;\n",
              "      width: 32px;\n",
              "    }\n",
              "\n",
              "    .colab-df-convert:hover {\n",
              "      background-color: #E2EBFA;\n",
              "      box-shadow: 0px 1px 2px rgba(60, 64, 67, 0.3), 0px 1px 3px 1px rgba(60, 64, 67, 0.15);\n",
              "      fill: #174EA6;\n",
              "    }\n",
              "\n",
              "    [theme=dark] .colab-df-convert {\n",
              "      background-color: #3B4455;\n",
              "      fill: #D2E3FC;\n",
              "    }\n",
              "\n",
              "    [theme=dark] .colab-df-convert:hover {\n",
              "      background-color: #434B5C;\n",
              "      box-shadow: 0px 1px 3px 1px rgba(0, 0, 0, 0.15);\n",
              "      filter: drop-shadow(0px 1px 2px rgba(0, 0, 0, 0.3));\n",
              "      fill: #FFFFFF;\n",
              "    }\n",
              "  </style>\n",
              "\n",
              "      <script>\n",
              "        const buttonEl =\n",
              "          document.querySelector('#df-94660ab5-910e-42b6-8694-3db5d61d7f0b button.colab-df-convert');\n",
              "        buttonEl.style.display =\n",
              "          google.colab.kernel.accessAllowed ? 'block' : 'none';\n",
              "\n",
              "        async function convertToInteractive(key) {\n",
              "          const element = document.querySelector('#df-94660ab5-910e-42b6-8694-3db5d61d7f0b');\n",
              "          const dataTable =\n",
              "            await google.colab.kernel.invokeFunction('convertToInteractive',\n",
              "                                                     [key], {});\n",
              "          if (!dataTable) return;\n",
              "\n",
              "          const docLinkHtml = 'Like what you see? Visit the ' +\n",
              "            '<a target=\"_blank\" href=https://colab.research.google.com/notebooks/data_table.ipynb>data table notebook</a>'\n",
              "            + ' to learn more about interactive tables.';\n",
              "          element.innerHTML = '';\n",
              "          dataTable['output_type'] = 'display_data';\n",
              "          await google.colab.output.renderOutput(dataTable, element);\n",
              "          const docLink = document.createElement('div');\n",
              "          docLink.innerHTML = docLinkHtml;\n",
              "          element.appendChild(docLink);\n",
              "        }\n",
              "      </script>\n",
              "    </div>\n",
              "  </div>\n",
              "  "
            ]
          },
          "metadata": {},
          "execution_count": 260
        }
      ]
    },
    {
      "cell_type": "code",
      "source": [
        "# Drop duplicates\n",
        "df = df.drop_duplicates(ignore_index=True)\n",
        "df.shape"
      ],
      "metadata": {
        "colab": {
          "base_uri": "https://localhost:8080/"
        },
        "id": "n8Ft0-TQqJTj",
        "outputId": "593eeaa4-cbc1-4c45-9279-f06424681a56"
      },
      "id": "n8Ft0-TQqJTj",
      "execution_count": null,
      "outputs": [
        {
          "output_type": "execute_result",
          "data": {
            "text/plain": [
              "(3711, 30)"
            ]
          },
          "metadata": {},
          "execution_count": 261
        }
      ]
    },
    {
      "cell_type": "markdown",
      "source": [
        "There were 61 duplicate rows."
      ],
      "metadata": {
        "id": "WGXwaFQWOg4x"
      },
      "id": "WGXwaFQWOg4x"
    },
    {
      "cell_type": "code",
      "source": [
        "df.info()"
      ],
      "metadata": {
        "colab": {
          "base_uri": "https://localhost:8080/"
        },
        "id": "DFgMSXYApoas",
        "outputId": "936b333c-7238-4480-c75d-92e4a460d91c"
      },
      "id": "DFgMSXYApoas",
      "execution_count": null,
      "outputs": [
        {
          "output_type": "stream",
          "name": "stdout",
          "text": [
            "<class 'pandas.core.frame.DataFrame'>\n",
            "RangeIndex: 3711 entries, 0 to 3710\n",
            "Data columns (total 30 columns):\n",
            " #   Column                     Non-Null Count  Dtype \n",
            "---  ------                     --------------  ----- \n",
            " 0   age                        3711 non-null   object\n",
            " 1   sex                        3711 non-null   object\n",
            " 2   on_thyroxine               3711 non-null   object\n",
            " 3   query_on_thyroxine         3711 non-null   object\n",
            " 4   on_antithyroid_medication  3711 non-null   object\n",
            " 5   sick                       3711 non-null   object\n",
            " 6   pregnant                   3711 non-null   object\n",
            " 7   thyroid_surgery            3711 non-null   object\n",
            " 8   I131_treatment             3711 non-null   object\n",
            " 9   query_hypothyroid          3711 non-null   object\n",
            " 10  query_hyperthyroid         3711 non-null   object\n",
            " 11  lithium                    3711 non-null   object\n",
            " 12  goitre                     3711 non-null   object\n",
            " 13  tumor                      3711 non-null   object\n",
            " 14  hypopituitary              3711 non-null   object\n",
            " 15  psych                      3711 non-null   object\n",
            " 16  TSH_measured               3711 non-null   object\n",
            " 17  TSH                        3711 non-null   object\n",
            " 18  T3_measured                3711 non-null   object\n",
            " 19  T3                         3711 non-null   object\n",
            " 20  TT4_measured               3711 non-null   object\n",
            " 21  TT4                        3711 non-null   object\n",
            " 22  T4U_measured               3711 non-null   object\n",
            " 23  T4U                        3711 non-null   object\n",
            " 24  FTI_measured               3711 non-null   object\n",
            " 25  FTI                        3711 non-null   object\n",
            " 26  TBG_measured               3711 non-null   object\n",
            " 27  TBG                        3711 non-null   object\n",
            " 28  referral_source            3711 non-null   object\n",
            " 29  Class                      3711 non-null   object\n",
            "dtypes: object(30)\n",
            "memory usage: 869.9+ KB\n"
          ]
        }
      ]
    },
    {
      "cell_type": "markdown",
      "source": [
        "It seems there is no NA values.\\\n",
        "Categorical variable 'age' has a string format - later I'll convert to numerical.\\\n",
        "Numerical features like 'TT4', 'T4U', 'FTI', 'TSH', 'T3' have data type 'object' - later I'll change the data type for numerical.\\\n",
        "Drop:\n",
        "* 'TSH_measured', 'T3_measured', 'TT4_measured', 'T4U_measured', 'FTI_measured', 'TBG_measured' columns as their values just indicates whether or not a medical test was taken,\n",
        "* referral source doesn't bring too much to the model,\n",
        "* all the TBG analysis values are missing so we have to delete this column.\n"
      ],
      "metadata": {
        "id": "L-Fsb1BI91Jd"
      },
      "id": "L-Fsb1BI91Jd"
    },
    {
      "cell_type": "code",
      "source": [
        "df = df.drop(['TSH_measured', 'T3_measured', 'TT4_measured', 'T4U_measured', \\\n",
        "              'FTI_measured', 'TBG_measured', 'TBG', 'referral_source'], axis=1)"
      ],
      "metadata": {
        "id": "RpgPABuv8wma"
      },
      "id": "RpgPABuv8wma",
      "execution_count": null,
      "outputs": []
    },
    {
      "cell_type": "code",
      "source": [
        "# Check for anomalies in the data\n",
        "df.min()"
      ],
      "metadata": {
        "colab": {
          "base_uri": "https://localhost:8080/"
        },
        "id": "KtbQOjQ5rLEa",
        "outputId": "8de6de76-a6c1-46e3-c853-7e4ac076f0a7"
      },
      "id": "KtbQOjQ5rLEa",
      "execution_count": null,
      "outputs": [
        {
          "output_type": "execute_result",
          "data": {
            "text/plain": [
              "age                                                1\n",
              "sex                                                ?\n",
              "on_thyroxine                                       f\n",
              "query_on_thyroxine                                 f\n",
              "on_antithyroid_medication                          f\n",
              "sick                                               f\n",
              "pregnant                                           f\n",
              "thyroid_surgery                                    f\n",
              "I131_treatment                                     f\n",
              "query_hypothyroid                                  f\n",
              "query_hyperthyroid                                 f\n",
              "lithium                                            f\n",
              "goitre                                             f\n",
              "tumor                                              f\n",
              "hypopituitary                                      f\n",
              "psych                                              f\n",
              "TSH                                            0.005\n",
              "T3                                              0.05\n",
              "TT4                                               10\n",
              "T4U                                             0.25\n",
              "FTI                                               10\n",
              "Class                        compensated_hypothyroid\n",
              "dtype: object"
            ]
          },
          "metadata": {},
          "execution_count": 10
        }
      ]
    },
    {
      "cell_type": "markdown",
      "source": [
        "Question marks in 'sex' column tells us that there are missing values.\\\n",
        "0.005 mIU/L for TSH and 0.25 μg/dL for T4U are normal values, they areencountered in patients with endocrine disorder."
      ],
      "metadata": {
        "id": "H2JC92-IrOvq"
      },
      "id": "H2JC92-IrOvq"
    },
    {
      "cell_type": "code",
      "source": [
        "# Check for anomalies in the data\n",
        "df.max()"
      ],
      "metadata": {
        "colab": {
          "base_uri": "https://localhost:8080/"
        },
        "id": "sbRwEwhvrRHm",
        "outputId": "99aa028e-c186-4eab-9c45-97486e6c95c8"
      },
      "id": "sbRwEwhvrRHm",
      "execution_count": null,
      "outputs": [
        {
          "output_type": "execute_result",
          "data": {
            "text/plain": [
              "age                                              ?\n",
              "sex                                              M\n",
              "on_thyroxine                                     t\n",
              "query_on_thyroxine                               t\n",
              "on_antithyroid_medication                        t\n",
              "sick                                             t\n",
              "pregnant                                         t\n",
              "thyroid_surgery                                  t\n",
              "I131_treatment                                   t\n",
              "query_hypothyroid                                t\n",
              "query_hyperthyroid                               t\n",
              "lithium                                          t\n",
              "goitre                                           t\n",
              "tumor                                            t\n",
              "hypopituitary                                    t\n",
              "psych                                            t\n",
              "TSH                                              ?\n",
              "T3                                               ?\n",
              "TT4                                              ?\n",
              "T4U                                              ?\n",
              "FTI                                              ?\n",
              "Class                        secondary_hypothyroid\n",
              "dtype: object"
            ]
          },
          "metadata": {},
          "execution_count": 11
        }
      ]
    },
    {
      "cell_type": "markdown",
      "source": [
        "Question marks in `age`, `TSH`, `T3`, `TT4`, `T4U`, `FTI` columns tells us that there are missing values."
      ],
      "metadata": {
        "id": "4J_VI6cGrV14"
      },
      "id": "4J_VI6cGrV14"
    },
    {
      "cell_type": "code",
      "source": [
        "# Replace question marks with NaN for further manipulation with those values\n",
        "df[['age', 'sex', 'TSH', 'T3', 'TT4', 'T4U', 'FTI']] = df[['age', \\\n",
        "    'sex', 'TSH', 'T3', 'TT4', 'T4U', 'FTI']].replace('?', np.NaN)\n",
        "print(df.isnull().sum())"
      ],
      "metadata": {
        "colab": {
          "base_uri": "https://localhost:8080/"
        },
        "id": "27I3ZX_OrYlA",
        "outputId": "61853519-6a80-4f53-98a3-60bda655bc21"
      },
      "id": "27I3ZX_OrYlA",
      "execution_count": null,
      "outputs": [
        {
          "output_type": "stream",
          "name": "stdout",
          "text": [
            "age                            1\n",
            "sex                          149\n",
            "on_thyroxine                   0\n",
            "query_on_thyroxine             0\n",
            "on_antithyroid_medication      0\n",
            "sick                           0\n",
            "pregnant                       0\n",
            "thyroid_surgery                0\n",
            "I131_treatment                 0\n",
            "query_hypothyroid              0\n",
            "query_hyperthyroid             0\n",
            "lithium                        0\n",
            "goitre                         0\n",
            "tumor                          0\n",
            "hypopituitary                  0\n",
            "psych                          0\n",
            "TSH                          309\n",
            "T3                           709\n",
            "TT4                          171\n",
            "T4U                          327\n",
            "FTI                          325\n",
            "Class                          0\n",
            "dtype: int64\n"
          ]
        }
      ]
    },
    {
      "cell_type": "code",
      "source": [
        "# Drop the rows with all NaN values if any\n",
        "df.dropna(how='all')\n",
        "df.shape"
      ],
      "metadata": {
        "colab": {
          "base_uri": "https://localhost:8080/"
        },
        "id": "JgUZUaBUrqBo",
        "outputId": "5ebd3809-5828-4cc0-ec23-4c7106c5464c"
      },
      "id": "JgUZUaBUrqBo",
      "execution_count": null,
      "outputs": [
        {
          "output_type": "execute_result",
          "data": {
            "text/plain": [
              "(3711, 22)"
            ]
          },
          "metadata": {},
          "execution_count": 213
        }
      ]
    },
    {
      "cell_type": "markdown",
      "source": [
        "There is no rows with all NaN values."
      ],
      "metadata": {
        "id": "fh0y6mw5ry7V"
      },
      "id": "fh0y6mw5ry7V"
    },
    {
      "cell_type": "markdown",
      "source": [
        "Categorical variables: `sex`, `on_thyroxine`, `query_on_thyroxine`, `on_antithyroid_medication`, `sick`, `pregnant`, `thyroid_surgery`, `I131_treatment`, `query_hypothyroid`, `query_hyperthyroid`, `lithium`, `goitre`, `tumor`, `hypopituitary`, `psych`, and `Class`.\n",
        "\n",
        "Numerical variable: `age`, `TSH`, `T3`, `TT4`, `T4U`, `FTI`."
      ],
      "metadata": {
        "id": "yoj3Pb51_3ZB"
      },
      "id": "yoj3Pb51_3ZB"
    },
    {
      "cell_type": "code",
      "source": [
        "# Convert data type of numerical values to float\n",
        "df[['age', 'TSH', 'T3', 'TT4', 'T4U', 'FTI']] = df[['age', 'TSH', 'T3', 'TT4', \\\n",
        "                                                    'T4U', 'FTI']].astype(float)"
      ],
      "metadata": {
        "id": "2m83BLKgDx8D"
      },
      "id": "2m83BLKgDx8D",
      "execution_count": null,
      "outputs": []
    },
    {
      "cell_type": "code",
      "source": [
        "df.dtypes"
      ],
      "metadata": {
        "colab": {
          "base_uri": "https://localhost:8080/"
        },
        "id": "XEgjP6KrFcaE",
        "outputId": "7d9957a2-7f93-49bd-cb00-07ffb40c8ef2"
      },
      "id": "XEgjP6KrFcaE",
      "execution_count": null,
      "outputs": [
        {
          "output_type": "execute_result",
          "data": {
            "text/plain": [
              "age                          float64\n",
              "sex                           object\n",
              "on_thyroxine                  object\n",
              "query_on_thyroxine            object\n",
              "on_antithyroid_medication     object\n",
              "sick                          object\n",
              "pregnant                      object\n",
              "thyroid_surgery               object\n",
              "I131_treatment                object\n",
              "query_hypothyroid             object\n",
              "query_hyperthyroid            object\n",
              "lithium                       object\n",
              "goitre                        object\n",
              "tumor                         object\n",
              "hypopituitary                 object\n",
              "psych                         object\n",
              "TSH                          float64\n",
              "T3                           float64\n",
              "TT4                          float64\n",
              "T4U                          float64\n",
              "FTI                          float64\n",
              "Class                         object\n",
              "dtype: object"
            ]
          },
          "metadata": {},
          "execution_count": 15
        }
      ]
    },
    {
      "cell_type": "code",
      "source": [
        "# Check for anomalies\n",
        "df['age'].value_counts()"
      ],
      "metadata": {
        "colab": {
          "base_uri": "https://localhost:8080/"
        },
        "id": "GvA0nYHsr73V",
        "outputId": "1503566a-889b-4d4e-8657-5206b717941d"
      },
      "id": "GvA0nYHsr73V",
      "execution_count": null,
      "outputs": [
        {
          "output_type": "execute_result",
          "data": {
            "text/plain": [
              "59.0     95\n",
              "60.0     90\n",
              "70.0     88\n",
              "73.0     81\n",
              "55.0     79\n",
              "         ..\n",
              "10.0      1\n",
              "4.0       1\n",
              "5.0       1\n",
              "455.0     1\n",
              "6.0       1\n",
              "Name: age, Length: 93, dtype: int64"
            ]
          },
          "metadata": {},
          "execution_count": 16
        }
      ]
    },
    {
      "cell_type": "markdown",
      "source": [
        "455 is unreal human age. Probably the error is double 5. Let's replace 455 with 45."
      ],
      "metadata": {
        "id": "ibb1dqwHsatE"
      },
      "id": "ibb1dqwHsatE"
    },
    {
      "cell_type": "code",
      "source": [
        "# Replace 455 with 45\n",
        "df['age'] = df['age'].replace(455.0, 45.0)"
      ],
      "metadata": {
        "id": "T-qi5c3fw1F8"
      },
      "id": "T-qi5c3fw1F8",
      "execution_count": null,
      "outputs": []
    },
    {
      "cell_type": "code",
      "source": [
        "# Check for anomalies and value balance\n",
        "df['sex'].value_counts()"
      ],
      "metadata": {
        "id": "M17vHq8sm3lf",
        "colab": {
          "base_uri": "https://localhost:8080/"
        },
        "outputId": "4cd484f0-3076-4c98-abfb-68153c2c8722"
      },
      "id": "M17vHq8sm3lf",
      "execution_count": null,
      "outputs": [
        {
          "output_type": "execute_result",
          "data": {
            "text/plain": [
              "F    2424\n",
              "M    1138\n",
              "Name: sex, dtype: int64"
            ]
          },
          "metadata": {},
          "execution_count": 18
        }
      ]
    },
    {
      "cell_type": "code",
      "source": [
        "df['on_thyroxine'].value_counts()"
      ],
      "metadata": {
        "colab": {
          "base_uri": "https://localhost:8080/"
        },
        "id": "Mx62RimWpV63",
        "outputId": "66cdd146-8d1a-4fe4-b166-a6d2399c530a"
      },
      "id": "Mx62RimWpV63",
      "execution_count": null,
      "outputs": [
        {
          "output_type": "execute_result",
          "data": {
            "text/plain": [
              "f    3247\n",
              "t     464\n",
              "Name: on_thyroxine, dtype: int64"
            ]
          },
          "metadata": {},
          "execution_count": 19
        }
      ]
    },
    {
      "cell_type": "code",
      "source": [
        "df['query_on_thyroxine'].value_counts()"
      ],
      "metadata": {
        "colab": {
          "base_uri": "https://localhost:8080/"
        },
        "id": "tq4xUXxCNKz_",
        "outputId": "19347f99-4604-437d-a59f-d54819e3ffbe"
      },
      "id": "tq4xUXxCNKz_",
      "execution_count": null,
      "outputs": [
        {
          "output_type": "execute_result",
          "data": {
            "text/plain": [
              "f    3661\n",
              "t      50\n",
              "Name: query_on_thyroxine, dtype: int64"
            ]
          },
          "metadata": {},
          "execution_count": 20
        }
      ]
    },
    {
      "cell_type": "code",
      "source": [
        "df['on_antithyroid_medication'].value_counts()"
      ],
      "metadata": {
        "colab": {
          "base_uri": "https://localhost:8080/"
        },
        "id": "JkzUNWCwNXI_",
        "outputId": "6b47c337-3c0a-4d66-d3a3-1b649442ce70"
      },
      "id": "JkzUNWCwNXI_",
      "execution_count": null,
      "outputs": [
        {
          "output_type": "execute_result",
          "data": {
            "text/plain": [
              "f    3669\n",
              "t      42\n",
              "Name: on_antithyroid_medication, dtype: int64"
            ]
          },
          "metadata": {},
          "execution_count": 21
        }
      ]
    },
    {
      "cell_type": "code",
      "source": [
        "df['sick'].value_counts()"
      ],
      "metadata": {
        "colab": {
          "base_uri": "https://localhost:8080/"
        },
        "id": "eVbIzwAiNi_n",
        "outputId": "e5e52c01-52f6-4ab1-80fb-1df8d1b78700"
      },
      "id": "eVbIzwAiNi_n",
      "execution_count": null,
      "outputs": [
        {
          "output_type": "execute_result",
          "data": {
            "text/plain": [
              "f    3564\n",
              "t     147\n",
              "Name: sick, dtype: int64"
            ]
          },
          "metadata": {},
          "execution_count": 22
        }
      ]
    },
    {
      "cell_type": "code",
      "source": [
        "df['pregnant'].value_counts()"
      ],
      "metadata": {
        "colab": {
          "base_uri": "https://localhost:8080/"
        },
        "id": "CZVulLwdOHDc",
        "outputId": "206bf60f-96e7-412b-ee58-3053d5f1a025"
      },
      "id": "CZVulLwdOHDc",
      "execution_count": null,
      "outputs": [
        {
          "output_type": "execute_result",
          "data": {
            "text/plain": [
              "f    3658\n",
              "t      53\n",
              "Name: pregnant, dtype: int64"
            ]
          },
          "metadata": {},
          "execution_count": 23
        }
      ]
    },
    {
      "cell_type": "code",
      "source": [
        "df['thyroid_surgery'].value_counts()"
      ],
      "metadata": {
        "colab": {
          "base_uri": "https://localhost:8080/"
        },
        "id": "YLZJLO9xOT8-",
        "outputId": "93a5e536-797b-49e7-a510-29f2aae96806"
      },
      "id": "YLZJLO9xOT8-",
      "execution_count": null,
      "outputs": [
        {
          "output_type": "execute_result",
          "data": {
            "text/plain": [
              "f    3658\n",
              "t      53\n",
              "Name: thyroid_surgery, dtype: int64"
            ]
          },
          "metadata": {},
          "execution_count": 24
        }
      ]
    },
    {
      "cell_type": "code",
      "source": [
        "df['I131_treatment'].value_counts()"
      ],
      "metadata": {
        "colab": {
          "base_uri": "https://localhost:8080/"
        },
        "id": "AmNmDom0PKF3",
        "outputId": "51340eeb-2fb1-44ea-fbb0-e734e286603c"
      },
      "id": "AmNmDom0PKF3",
      "execution_count": null,
      "outputs": [
        {
          "output_type": "execute_result",
          "data": {
            "text/plain": [
              "f    3652\n",
              "t      59\n",
              "Name: I131_treatment, dtype: int64"
            ]
          },
          "metadata": {},
          "execution_count": 25
        }
      ]
    },
    {
      "cell_type": "code",
      "source": [
        "df['query_hyperthyroid'].value_counts()"
      ],
      "metadata": {
        "colab": {
          "base_uri": "https://localhost:8080/"
        },
        "id": "uIbLAc9rPlY8",
        "outputId": "09c4a15b-9fcd-4afb-94ee-e544ef1e6f2b"
      },
      "id": "uIbLAc9rPlY8",
      "execution_count": null,
      "outputs": [
        {
          "output_type": "execute_result",
          "data": {
            "text/plain": [
              "f    3477\n",
              "t     234\n",
              "Name: query_hyperthyroid, dtype: int64"
            ]
          },
          "metadata": {},
          "execution_count": 26
        }
      ]
    },
    {
      "cell_type": "code",
      "source": [
        "df['lithium'].value_counts()"
      ],
      "metadata": {
        "colab": {
          "base_uri": "https://localhost:8080/"
        },
        "id": "zIx_6Xj0P2ov",
        "outputId": "f4800a80-89e4-4d21-cff5-3c859dcf4e9c"
      },
      "id": "zIx_6Xj0P2ov",
      "execution_count": null,
      "outputs": [
        {
          "output_type": "execute_result",
          "data": {
            "text/plain": [
              "f    3693\n",
              "t      18\n",
              "Name: lithium, dtype: int64"
            ]
          },
          "metadata": {},
          "execution_count": 27
        }
      ]
    },
    {
      "cell_type": "code",
      "source": [
        "df['goitre'].value_counts()"
      ],
      "metadata": {
        "colab": {
          "base_uri": "https://localhost:8080/"
        },
        "id": "I-BciXVGQz6L",
        "outputId": "43a0e411-d851-432a-8a5d-a17646d9c576"
      },
      "id": "I-BciXVGQz6L",
      "execution_count": null,
      "outputs": [
        {
          "output_type": "execute_result",
          "data": {
            "text/plain": [
              "f    3677\n",
              "t      34\n",
              "Name: goitre, dtype: int64"
            ]
          },
          "metadata": {},
          "execution_count": 28
        }
      ]
    },
    {
      "cell_type": "code",
      "source": [
        "df['tumor'].value_counts()"
      ],
      "metadata": {
        "colab": {
          "base_uri": "https://localhost:8080/"
        },
        "id": "KYwlftRfQ4JJ",
        "outputId": "d17e1f83-5991-4928-e3f9-a22026678a8b"
      },
      "id": "KYwlftRfQ4JJ",
      "execution_count": null,
      "outputs": [
        {
          "output_type": "execute_result",
          "data": {
            "text/plain": [
              "f    3615\n",
              "t      96\n",
              "Name: tumor, dtype: int64"
            ]
          },
          "metadata": {},
          "execution_count": 29
        }
      ]
    },
    {
      "cell_type": "code",
      "source": [
        "df['hypopituitary'].value_counts()"
      ],
      "metadata": {
        "colab": {
          "base_uri": "https://localhost:8080/"
        },
        "id": "iy4FDOYJQ9xM",
        "outputId": "c3d80051-104e-4648-acc9-4253335cc335"
      },
      "id": "iy4FDOYJQ9xM",
      "execution_count": null,
      "outputs": [
        {
          "output_type": "execute_result",
          "data": {
            "text/plain": [
              "f    3710\n",
              "t       1\n",
              "Name: hypopituitary, dtype: int64"
            ]
          },
          "metadata": {},
          "execution_count": 30
        }
      ]
    },
    {
      "cell_type": "markdown",
      "source": [
        "Let's drop `hypopituitary` column because it's only one true and all others are 'false' it doesn't bring much to the model."
      ],
      "metadata": {
        "id": "x3tQsfhtNnWt"
      },
      "id": "x3tQsfhtNnWt"
    },
    {
      "cell_type": "code",
      "source": [
        "df = df.drop(['hypopituitary'], axis=1)"
      ],
      "metadata": {
        "id": "eStBtN5zeenV"
      },
      "id": "eStBtN5zeenV",
      "execution_count": null,
      "outputs": []
    },
    {
      "cell_type": "code",
      "source": [
        "df['psych'].value_counts()"
      ],
      "metadata": {
        "colab": {
          "base_uri": "https://localhost:8080/"
        },
        "id": "GPZn7Z_lRe-3",
        "outputId": "e6146d61-9467-48d3-f1e8-2972e81dd682"
      },
      "id": "GPZn7Z_lRe-3",
      "execution_count": null,
      "outputs": [
        {
          "output_type": "execute_result",
          "data": {
            "text/plain": [
              "f    3527\n",
              "t     184\n",
              "Name: psych, dtype: int64"
            ]
          },
          "metadata": {},
          "execution_count": 32
        }
      ]
    },
    {
      "cell_type": "code",
      "source": [
        "df['Class'].value_counts()"
      ],
      "metadata": {
        "colab": {
          "base_uri": "https://localhost:8080/"
        },
        "id": "8CsjshYqLusj",
        "outputId": "21490b64-8b42-471d-cdd6-c97e80415970"
      },
      "id": "8CsjshYqLusj",
      "execution_count": null,
      "outputs": [
        {
          "output_type": "execute_result",
          "data": {
            "text/plain": [
              "negative                   3420\n",
              "compensated_hypothyroid     194\n",
              "primary_hypothyroid          95\n",
              "secondary_hypothyroid         2\n",
              "Name: Class, dtype: int64"
            ]
          },
          "metadata": {},
          "execution_count": 33
        }
      ]
    },
    {
      "cell_type": "code",
      "source": [
        "# Percentage of 'secondary_hypothyroid' class\n",
        "2/3711"
      ],
      "metadata": {
        "colab": {
          "base_uri": "https://localhost:8080/"
        },
        "id": "QSL63SycUBbO",
        "outputId": "02255316-cf58-4352-b6a0-7021d514d09f"
      },
      "id": "QSL63SycUBbO",
      "execution_count": null,
      "outputs": [
        {
          "output_type": "execute_result",
          "data": {
            "text/plain": [
              "0.0005389382915656157"
            ]
          },
          "metadata": {},
          "execution_count": 34
        }
      ]
    },
    {
      "cell_type": "markdown",
      "source": [
        "A target variable is highly imbalanced. `secondary_hypothyroid` is represented by 2 samples (0.05% of total number of samples in a variable). We could oversample this class with SMOTE in case it was at least 3% of total samples; hence, it's reasonable to drop it."
      ],
      "metadata": {
        "id": "01k0B7YQf7rc"
      },
      "id": "01k0B7YQf7rc"
    },
    {
      "cell_type": "code",
      "source": [
        "df.drop(df[df.Class == 'secondary_hypothyroid'].index, inplace = True)"
      ],
      "metadata": {
        "id": "Of1b6Orvhk5v"
      },
      "id": "Of1b6Orvhk5v",
      "execution_count": null,
      "outputs": []
    },
    {
      "cell_type": "markdown",
      "source": [
        "## Train/test split and X/y split"
      ],
      "metadata": {
        "id": "3dPCI0Km1Fwn"
      },
      "id": "3dPCI0Km1Fwn"
    },
    {
      "cell_type": "code",
      "source": [
        "# Input/output split\n",
        "X, y = df.drop('Class', axis=1), df['Class']"
      ],
      "metadata": {
        "id": "R6UsJJNSVO81"
      },
      "id": "R6UsJJNSVO81",
      "execution_count": null,
      "outputs": []
    },
    {
      "cell_type": "code",
      "source": [
        "# Train/test split (stratify=y to get each out of 3 classes in split data)\n",
        "X_train, X_test, y_train, y_test = train_test_split(\n",
        "    X, y, test_size=0.2, random_state=42, stratify=y\n",
        "    )\n",
        "X_train.shape, X_test.shape, y_train.shape, y_test.shape"
      ],
      "metadata": {
        "colab": {
          "base_uri": "https://localhost:8080/"
        },
        "id": "8dUquOiKbz-z",
        "outputId": "16ada197-71b5-435d-9aa9-36d8309765cf"
      },
      "id": "8dUquOiKbz-z",
      "execution_count": null,
      "outputs": [
        {
          "output_type": "execute_result",
          "data": {
            "text/plain": [
              "((2967, 20), (742, 20), (2967,), (742,))"
            ]
          },
          "metadata": {},
          "execution_count": 269
        }
      ]
    },
    {
      "cell_type": "code",
      "source": [
        "# Encode target variable that has 4 classes with Label Encoder\n",
        "le = LabelEncoder()\n",
        "\n",
        "y_train = le.fit_transform(y_train)\n",
        "y_test = le.transform(y_test)"
      ],
      "metadata": {
        "id": "dmAj8QGPb8nW"
      },
      "id": "dmAj8QGPb8nW",
      "execution_count": null,
      "outputs": []
    },
    {
      "cell_type": "code",
      "source": [
        "# Check for labels in a target train and test subsets\n",
        "np.unique(y_train), np.unique(y_test)"
      ],
      "metadata": {
        "colab": {
          "base_uri": "https://localhost:8080/"
        },
        "id": "epuNA0vQy8mx",
        "outputId": "3df6df69-0374-4f9c-ded4-887b7306b460"
      },
      "id": "epuNA0vQy8mx",
      "execution_count": null,
      "outputs": [
        {
          "output_type": "execute_result",
          "data": {
            "text/plain": [
              "(array([0, 1, 2]), array([0, 1, 2]))"
            ]
          },
          "metadata": {},
          "execution_count": 221
        }
      ]
    },
    {
      "cell_type": "markdown",
      "source": [
        "## Scaling and filling NAs"
      ],
      "metadata": {
        "id": "py5EWUjU1DOX"
      },
      "id": "py5EWUjU1DOX"
    },
    {
      "cell_type": "code",
      "source": [
        "cat_features = df.select_dtypes(object).columns\n",
        "list(cat_features)"
      ],
      "metadata": {
        "colab": {
          "base_uri": "https://localhost:8080/"
        },
        "id": "bKIICtClS_0G",
        "outputId": "d7ba589d-9b06-4bf4-cfad-74e4ede31153"
      },
      "id": "bKIICtClS_0G",
      "execution_count": null,
      "outputs": [
        {
          "output_type": "execute_result",
          "data": {
            "text/plain": [
              "['sex',\n",
              " 'on_thyroxine',\n",
              " 'query_on_thyroxine',\n",
              " 'on_antithyroid_medication',\n",
              " 'sick',\n",
              " 'pregnant',\n",
              " 'thyroid_surgery',\n",
              " 'I131_treatment',\n",
              " 'query_hypothyroid',\n",
              " 'query_hyperthyroid',\n",
              " 'lithium',\n",
              " 'goitre',\n",
              " 'tumor',\n",
              " 'psych',\n",
              " 'Class']"
            ]
          },
          "metadata": {},
          "execution_count": 271
        }
      ]
    },
    {
      "cell_type": "code",
      "source": [
        "num_features = df.select_dtypes(float).columns\n",
        "list(num_features)"
      ],
      "metadata": {
        "colab": {
          "base_uri": "https://localhost:8080/"
        },
        "id": "shOzkdvkTLXC",
        "outputId": "db1860c2-930c-4c91-b620-269b5e6845a4"
      },
      "id": "shOzkdvkTLXC",
      "execution_count": null,
      "outputs": [
        {
          "output_type": "execute_result",
          "data": {
            "text/plain": [
              "['age', 'TSH', 'T3', 'TT4', 'T4U', 'FTI']"
            ]
          },
          "metadata": {},
          "execution_count": 272
        }
      ]
    },
    {
      "cell_type": "markdown",
      "source": [
        "I tried to run model with unscaled data, but it was unable to learn. I got NaN values. Apparently the weights exploded during training given the very large errors.\n",
        "Also I tried Batch Normalisation, it did not help much - test accuracy was still 'nan'."
      ],
      "metadata": {
        "id": "hj09HBmVBC3E"
      },
      "id": "hj09HBmVBC3E"
    },
    {
      "cell_type": "code",
      "source": [
        "# Check distribution to decide what kind of scaling to use\n",
        "X_train[num_features].hist(figsize=(8, 10), bins=20, xlabelsize=8, ylabelsize=8);"
      ],
      "metadata": {
        "colab": {
          "base_uri": "https://localhost:8080/",
          "height": 850
        },
        "id": "uqRMEsGOA6bA",
        "outputId": "8cd5881f-66b4-4545-a26f-3064286f6219"
      },
      "id": "uqRMEsGOA6bA",
      "execution_count": null,
      "outputs": [
        {
          "output_type": "display_data",
          "data": {
            "text/plain": [
              "<Figure size 800x1000 with 6 Axes>"
            ],
            "image/png": "[encoded data removed]"
          },
          "metadata": {}
        }
      ]
    },
    {
      "cell_type": "markdown",
      "source": [
        "`TSH` has skewed distribution,\\\n",
        "`age` - binomial,\\\n",
        "other variables - normal, exept for `TT4` and `TT4U` - normal with a slight skeweness.\\\n",
        "Let's use Robust Scaler that is robust to outliers."
      ],
      "metadata": {
        "id": "kPn51vQaXtQK"
      },
      "id": "kPn51vQaXtQK"
    },
    {
      "cell_type": "code",
      "source": [
        "# Normalize numerical variables\n",
        "robust_scaler = RobustScaler()\n",
        "\n",
        "X_train[num_features] = robust_scaler.fit_transform(X_train[num_features])\n",
        "X_test[num_features] = robust_scaler.transform(X_test[num_features])"
      ],
      "metadata": {
        "id": "fWD63xKvBDNg"
      },
      "id": "fWD63xKvBDNg",
      "execution_count": null,
      "outputs": []
    },
    {
      "cell_type": "code",
      "source": [
        "# Impute NAs in numerical variables of a train subset\n",
        "X_train[num_features] = mf.ampute_data(\n",
        "    X_train[num_features],\n",
        "    perc=0.25,\n",
        "    random_state=7)\n",
        "\n",
        "kds = mf.ImputationKernel(\n",
        "    X_train[num_features],\n",
        "    save_all_iterations=True,\n",
        "    random_state=7\n",
        ")\n",
        "\n",
        "kds.mice(2)\n",
        "\n",
        "X_train_num = kds.complete_data()\n",
        "\n",
        "\n",
        "# Impute NAs in numerical variables of a test subset\n",
        "X_test[num_features] = mf.ampute_data(\n",
        "    X_test[num_features],\n",
        "    perc=0.25,\n",
        "    random_state=7)\n",
        "\n",
        "kds = mf.ImputationKernel(\n",
        "    X_test[num_features],\n",
        "    save_all_iterations=True,\n",
        "    random_state=7\n",
        ")\n",
        "\n",
        "kds.mice(2)\n",
        "\n",
        "X_test_num = kds.complete_data()"
      ],
      "metadata": {
        "id": "UFhCsj3AVjlW"
      },
      "id": "UFhCsj3AVjlW",
      "execution_count": null,
      "outputs": []
    },
    {
      "cell_type": "code",
      "source": [
        "# Exclude a target variable since we already encoded it into labels\n",
        "cat_features = cat_features.drop('Class')"
      ],
      "metadata": {
        "id": "GDOWblEfS9en"
      },
      "id": "GDOWblEfS9en",
      "execution_count": null,
      "outputs": []
    },
    {
      "cell_type": "code",
      "source": [
        "# Encode categroical variables\n",
        "enc = OrdinalEncoder()\n",
        "\n",
        "X_train[cat_features] = enc.fit_transform(X_train[cat_features])\n",
        "X_test[cat_features] = enc.transform(X_test[cat_features])"
      ],
      "metadata": {
        "id": "249NkF703jSO"
      },
      "id": "249NkF703jSO",
      "execution_count": null,
      "outputs": []
    },
    {
      "cell_type": "code",
      "source": [
        "# Impute NAs in categorical variable\n",
        "X_train[cat_features] = X_train[cat_features].astype('category')\n",
        "X_train[cat_features] = mf.ampute_data(X_train[cat_features], perc=0.04, random_state=7)\n",
        "\n",
        "kds = mf.ImputationKernel(\n",
        "    X_train[cat_features],\n",
        "    save_all_iterations=True,\n",
        "    random_state=7\n",
        ")\n",
        "\n",
        "kds.mice(2)\n",
        "\n",
        "X_train_cat = kds.complete_data()\n",
        "\n",
        "\n",
        "X_test[cat_features] = X_test[cat_features].astype('category')\n",
        "X_test[cat_features] = mf.ampute_data(X_test[cat_features], perc=0.04, random_state=7)\n",
        "\n",
        "kds = mf.ImputationKernel(\n",
        "    X_test[cat_features],\n",
        "    save_all_iterations=True,\n",
        "    random_state=7\n",
        ")\n",
        "\n",
        "kds.mice(2)\n",
        "\n",
        "X_test_cat = kds.complete_data()"
      ],
      "metadata": {
        "id": "avavSMv3I9Pk"
      },
      "id": "avavSMv3I9Pk",
      "execution_count": null,
      "outputs": []
    },
    {
      "cell_type": "code",
      "source": [
        "# Concatenate columns with numerical and categorical features\n",
        "X_train = pd.concat([X_train_num, X_train_cat], axis=1)\n",
        "X_test = pd.concat([X_test_num, X_test_cat], axis=1)"
      ],
      "metadata": {
        "id": "y-YUxea3KYiZ"
      },
      "id": "y-YUxea3KYiZ",
      "execution_count": null,
      "outputs": []
    },
    {
      "cell_type": "markdown",
      "source": [
        "# Modeling and Training"
      ],
      "metadata": {
        "id": "1dM6mdT9YdM3"
      },
      "id": "1dM6mdT9YdM3"
    },
    {
      "cell_type": "code",
      "source": [
        "# Determine the number of input features in the model\n",
        "n_features = X_train.shape[1]\n",
        "n_features"
      ],
      "metadata": {
        "id": "HDLimn2WUCz-",
        "colab": {
          "base_uri": "https://localhost:8080/"
        },
        "outputId": "c7d2bd95-5a57-4f61-844b-518b71c7d5de"
      },
      "id": "HDLimn2WUCz-",
      "execution_count": null,
      "outputs": [
        {
          "output_type": "execute_result",
          "data": {
            "text/plain": [
              "20"
            ]
          },
          "metadata": {},
          "execution_count": 230
        }
      ]
    },
    {
      "cell_type": "code",
      "source": [
        "# Define model\n",
        "model = Sequential()\n",
        "model.add(Dense(3, activation='relu', kernel_initializer='he_normal', input_shape=(n_features,)))\n",
        "model.add(Dense(3, activation='softmax'))"
      ],
      "metadata": {
        "id": "SRakTWlbUjTV"
      },
      "id": "SRakTWlbUjTV",
      "execution_count": null,
      "outputs": []
    },
    {
      "cell_type": "code",
      "source": [
        "# Compile the model\n",
        "adam = tf.keras.optimizers.Adam(learning_rate=0.3)\n",
        "model.compile(optimizer='adam', loss='sparse_categorical_crossentropy', metrics=['accuracy'])"
      ],
      "metadata": {
        "id": "NYOnVhAlU3Fx"
      },
      "id": "NYOnVhAlU3Fx",
      "execution_count": null,
      "outputs": []
    },
    {
      "cell_type": "code",
      "source": [
        "# Use early stopping to exit training if validation loss is not decreasing after certain epochs\n",
        "earlystopping = EarlyStopping(monitor='val_loss', mode='min', verbose=1, patience=20)\n",
        "\n",
        "# Save the best model with least validation loss\n",
        "checkpointer = ModelCheckpoint(filepath=\"Class_weights.hdf5\", verbose=1, save_best_only=True)"
      ],
      "metadata": {
        "id": "OSqFCw3s7W-I"
      },
      "id": "OSqFCw3s7W-I",
      "execution_count": null,
      "outputs": []
    },
    {
      "cell_type": "code",
      "source": [
        "# Fit the model\n",
        "%%time\n",
        "history = model.fit(X_train, y_train, validation_data=(X_test, y_test),\n",
        "                    steps_per_epoch=len(X_train) // 16, epochs=150, batch_size=16,\n",
        "                    verbose=0, callbacks=[checkpointer, earlystopping])"
      ],
      "metadata": {
        "colab": {
          "base_uri": "https://localhost:8080/"
        },
        "id": "QirWpvWKV7bN",
        "outputId": "d78008df-ce9d-4e6e-a4a4-255d7cecc49c"
      },
      "id": "QirWpvWKV7bN",
      "execution_count": null,
      "outputs": [
        {
          "output_type": "stream",
          "name": "stdout",
          "text": [
            "\n",
            "Epoch 1: val_loss improved from inf to 0.81247, saving model to Class_weights.hdf5\n",
            "\n",
            "Epoch 2: val_loss improved from 0.81247 to 0.51888, saving model to Class_weights.hdf5\n",
            "\n",
            "Epoch 3: val_loss improved from 0.51888 to 0.35928, saving model to Class_weights.hdf5\n",
            "\n",
            "Epoch 4: val_loss improved from 0.35928 to 0.28865, saving model to Class_weights.hdf5\n",
            "\n",
            "Epoch 5: val_loss improved from 0.28865 to 0.25629, saving model to Class_weights.hdf5\n",
            "\n",
            "Epoch 6: val_loss improved from 0.25629 to 0.23932, saving model to Class_weights.hdf5\n",
            "\n",
            "Epoch 7: val_loss improved from 0.23932 to 0.22876, saving model to Class_weights.hdf5\n",
            "\n",
            "Epoch 8: val_loss improved from 0.22876 to 0.22177, saving model to Class_weights.hdf5\n",
            "\n",
            "Epoch 9: val_loss improved from 0.22177 to 0.21661, saving model to Class_weights.hdf5\n",
            "\n",
            "Epoch 10: val_loss improved from 0.21661 to 0.21182, saving model to Class_weights.hdf5\n",
            "\n",
            "Epoch 11: val_loss improved from 0.21182 to 0.20785, saving model to Class_weights.hdf5\n",
            "\n",
            "Epoch 12: val_loss improved from 0.20785 to 0.20454, saving model to Class_weights.hdf5\n",
            "\n",
            "Epoch 13: val_loss improved from 0.20454 to 0.20219, saving model to Class_weights.hdf5\n",
            "\n",
            "Epoch 14: val_loss improved from 0.20219 to 0.19974, saving model to Class_weights.hdf5\n",
            "\n",
            "Epoch 15: val_loss improved from 0.19974 to 0.19800, saving model to Class_weights.hdf5\n",
            "\n",
            "Epoch 16: val_loss improved from 0.19800 to 0.19621, saving model to Class_weights.hdf5\n",
            "\n",
            "Epoch 17: val_loss improved from 0.19621 to 0.19490, saving model to Class_weights.hdf5\n",
            "\n",
            "Epoch 18: val_loss improved from 0.19490 to 0.19333, saving model to Class_weights.hdf5\n",
            "\n",
            "Epoch 19: val_loss improved from 0.19333 to 0.19217, saving model to Class_weights.hdf5\n",
            "\n",
            "Epoch 20: val_loss improved from 0.19217 to 0.19156, saving model to Class_weights.hdf5\n",
            "\n",
            "Epoch 21: val_loss improved from 0.19156 to 0.19012, saving model to Class_weights.hdf5\n",
            "\n",
            "Epoch 22: val_loss improved from 0.19012 to 0.18944, saving model to Class_weights.hdf5\n",
            "\n",
            "Epoch 23: val_loss improved from 0.18944 to 0.18868, saving model to Class_weights.hdf5\n",
            "\n",
            "Epoch 24: val_loss improved from 0.18868 to 0.18787, saving model to Class_weights.hdf5\n",
            "\n",
            "Epoch 25: val_loss improved from 0.18787 to 0.18715, saving model to Class_weights.hdf5\n",
            "\n",
            "Epoch 26: val_loss improved from 0.18715 to 0.18645, saving model to Class_weights.hdf5\n",
            "\n",
            "Epoch 27: val_loss improved from 0.18645 to 0.18504, saving model to Class_weights.hdf5\n",
            "\n",
            "Epoch 28: val_loss improved from 0.18504 to 0.18401, saving model to Class_weights.hdf5\n",
            "\n",
            "Epoch 29: val_loss improved from 0.18401 to 0.18308, saving model to Class_weights.hdf5\n",
            "\n",
            "Epoch 30: val_loss improved from 0.18308 to 0.18241, saving model to Class_weights.hdf5\n",
            "\n",
            "Epoch 31: val_loss improved from 0.18241 to 0.18228, saving model to Class_weights.hdf5\n",
            "\n",
            "Epoch 32: val_loss improved from 0.18228 to 0.18051, saving model to Class_weights.hdf5\n",
            "\n",
            "Epoch 33: val_loss improved from 0.18051 to 0.17980, saving model to Class_weights.hdf5\n",
            "\n",
            "Epoch 34: val_loss improved from 0.17980 to 0.17890, saving model to Class_weights.hdf5\n",
            "\n",
            "Epoch 35: val_loss improved from 0.17890 to 0.17739, saving model to Class_weights.hdf5\n",
            "\n",
            "Epoch 36: val_loss improved from 0.17739 to 0.17726, saving model to Class_weights.hdf5\n",
            "\n",
            "Epoch 37: val_loss improved from 0.17726 to 0.17604, saving model to Class_weights.hdf5\n",
            "\n",
            "Epoch 38: val_loss improved from 0.17604 to 0.17509, saving model to Class_weights.hdf5\n",
            "\n",
            "Epoch 39: val_loss improved from 0.17509 to 0.17421, saving model to Class_weights.hdf5\n",
            "\n",
            "Epoch 40: val_loss improved from 0.17421 to 0.17324, saving model to Class_weights.hdf5\n",
            "\n",
            "Epoch 41: val_loss improved from 0.17324 to 0.17240, saving model to Class_weights.hdf5\n",
            "\n",
            "Epoch 42: val_loss improved from 0.17240 to 0.17164, saving model to Class_weights.hdf5\n",
            "\n",
            "Epoch 43: val_loss improved from 0.17164 to 0.17109, saving model to Class_weights.hdf5\n",
            "\n",
            "Epoch 44: val_loss improved from 0.17109 to 0.17042, saving model to Class_weights.hdf5\n",
            "\n",
            "Epoch 45: val_loss improved from 0.17042 to 0.16942, saving model to Class_weights.hdf5\n",
            "\n",
            "Epoch 46: val_loss did not improve from 0.16942\n",
            "\n",
            "Epoch 47: val_loss improved from 0.16942 to 0.16816, saving model to Class_weights.hdf5\n",
            "\n",
            "Epoch 48: val_loss did not improve from 0.16816\n",
            "\n",
            "Epoch 49: val_loss improved from 0.16816 to 0.16752, saving model to Class_weights.hdf5\n",
            "\n",
            "Epoch 50: val_loss improved from 0.16752 to 0.16612, saving model to Class_weights.hdf5\n",
            "\n",
            "Epoch 51: val_loss improved from 0.16612 to 0.16586, saving model to Class_weights.hdf5\n",
            "\n",
            "Epoch 52: val_loss improved from 0.16586 to 0.16567, saving model to Class_weights.hdf5\n",
            "\n",
            "Epoch 53: val_loss improved from 0.16567 to 0.16532, saving model to Class_weights.hdf5\n",
            "\n",
            "Epoch 54: val_loss improved from 0.16532 to 0.16490, saving model to Class_weights.hdf5\n",
            "\n",
            "Epoch 55: val_loss did not improve from 0.16490\n",
            "\n",
            "Epoch 56: val_loss improved from 0.16490 to 0.16365, saving model to Class_weights.hdf5\n",
            "\n",
            "Epoch 57: val_loss improved from 0.16365 to 0.16295, saving model to Class_weights.hdf5\n",
            "\n",
            "Epoch 58: val_loss improved from 0.16295 to 0.16178, saving model to Class_weights.hdf5\n",
            "\n",
            "Epoch 59: val_loss improved from 0.16178 to 0.16173, saving model to Class_weights.hdf5\n",
            "\n",
            "Epoch 60: val_loss did not improve from 0.16173\n",
            "\n",
            "Epoch 61: val_loss improved from 0.16173 to 0.16158, saving model to Class_weights.hdf5\n",
            "\n",
            "Epoch 62: val_loss improved from 0.16158 to 0.16075, saving model to Class_weights.hdf5\n",
            "\n",
            "Epoch 63: val_loss improved from 0.16075 to 0.15992, saving model to Class_weights.hdf5\n",
            "\n",
            "Epoch 64: val_loss improved from 0.15992 to 0.15965, saving model to Class_weights.hdf5\n",
            "\n",
            "Epoch 65: val_loss did not improve from 0.15965\n",
            "\n",
            "Epoch 66: val_loss did not improve from 0.15965\n",
            "\n",
            "Epoch 67: val_loss did not improve from 0.15965\n",
            "\n",
            "Epoch 68: val_loss improved from 0.15965 to 0.15849, saving model to Class_weights.hdf5\n",
            "\n",
            "Epoch 69: val_loss did not improve from 0.15849\n",
            "\n",
            "Epoch 70: val_loss improved from 0.15849 to 0.15799, saving model to Class_weights.hdf5\n",
            "\n",
            "Epoch 71: val_loss did not improve from 0.15799\n",
            "\n",
            "Epoch 72: val_loss improved from 0.15799 to 0.15735, saving model to Class_weights.hdf5\n",
            "\n",
            "Epoch 73: val_loss improved from 0.15735 to 0.15731, saving model to Class_weights.hdf5\n",
            "\n",
            "Epoch 74: val_loss improved from 0.15731 to 0.15714, saving model to Class_weights.hdf5\n",
            "\n",
            "Epoch 75: val_loss did not improve from 0.15714\n",
            "\n",
            "Epoch 76: val_loss improved from 0.15714 to 0.15613, saving model to Class_weights.hdf5\n",
            "\n",
            "Epoch 77: val_loss improved from 0.15613 to 0.15606, saving model to Class_weights.hdf5\n",
            "\n",
            "Epoch 78: val_loss did not improve from 0.15606\n",
            "\n",
            "Epoch 79: val_loss improved from 0.15606 to 0.15596, saving model to Class_weights.hdf5\n",
            "\n",
            "Epoch 80: val_loss did not improve from 0.15596\n",
            "\n",
            "Epoch 81: val_loss improved from 0.15596 to 0.15485, saving model to Class_weights.hdf5\n",
            "\n",
            "Epoch 82: val_loss improved from 0.15485 to 0.15481, saving model to Class_weights.hdf5\n",
            "\n",
            "Epoch 83: val_loss did not improve from 0.15481\n",
            "\n",
            "Epoch 84: val_loss improved from 0.15481 to 0.15411, saving model to Class_weights.hdf5\n",
            "\n",
            "Epoch 85: val_loss did not improve from 0.15411\n",
            "\n",
            "Epoch 86: val_loss did not improve from 0.15411\n",
            "\n",
            "Epoch 87: val_loss improved from 0.15411 to 0.15401, saving model to Class_weights.hdf5\n",
            "\n",
            "Epoch 88: val_loss improved from 0.15401 to 0.15396, saving model to Class_weights.hdf5\n",
            "\n",
            "Epoch 89: val_loss did not improve from 0.15396\n",
            "\n",
            "Epoch 90: val_loss did not improve from 0.15396\n",
            "\n",
            "Epoch 91: val_loss improved from 0.15396 to 0.15350, saving model to Class_weights.hdf5\n",
            "\n",
            "Epoch 92: val_loss improved from 0.15350 to 0.15315, saving model to Class_weights.hdf5\n",
            "\n",
            "Epoch 93: val_loss did not improve from 0.15315\n",
            "\n",
            "Epoch 94: val_loss did not improve from 0.15315\n",
            "\n",
            "Epoch 95: val_loss improved from 0.15315 to 0.15226, saving model to Class_weights.hdf5\n",
            "\n",
            "Epoch 96: val_loss did not improve from 0.15226\n",
            "\n",
            "Epoch 97: val_loss did not improve from 0.15226\n",
            "\n",
            "Epoch 98: val_loss did not improve from 0.15226\n",
            "\n",
            "Epoch 99: val_loss did not improve from 0.15226\n",
            "\n",
            "Epoch 100: val_loss did not improve from 0.15226\n",
            "\n",
            "Epoch 101: val_loss did not improve from 0.15226\n",
            "\n",
            "Epoch 102: val_loss did not improve from 0.15226\n",
            "\n",
            "Epoch 103: val_loss improved from 0.15226 to 0.15185, saving model to Class_weights.hdf5\n",
            "\n",
            "Epoch 104: val_loss did not improve from 0.15185\n",
            "\n",
            "Epoch 105: val_loss did not improve from 0.15185\n",
            "\n",
            "Epoch 106: val_loss did not improve from 0.15185\n",
            "\n",
            "Epoch 107: val_loss did not improve from 0.15185\n",
            "\n",
            "Epoch 108: val_loss did not improve from 0.15185\n",
            "\n",
            "Epoch 109: val_loss did not improve from 0.15185\n",
            "\n",
            "Epoch 110: val_loss did not improve from 0.15185\n",
            "\n",
            "Epoch 111: val_loss did not improve from 0.15185\n",
            "\n",
            "Epoch 112: val_loss did not improve from 0.15185\n",
            "\n",
            "Epoch 113: val_loss did not improve from 0.15185\n",
            "\n",
            "Epoch 114: val_loss did not improve from 0.15185\n",
            "\n",
            "Epoch 115: val_loss did not improve from 0.15185\n",
            "\n",
            "Epoch 116: val_loss did not improve from 0.15185\n",
            "\n",
            "Epoch 117: val_loss did not improve from 0.15185\n",
            "\n",
            "Epoch 118: val_loss did not improve from 0.15185\n",
            "\n",
            "Epoch 119: val_loss did not improve from 0.15185\n",
            "\n",
            "Epoch 120: val_loss improved from 0.15185 to 0.15183, saving model to Class_weights.hdf5\n",
            "\n",
            "Epoch 121: val_loss did not improve from 0.15183\n",
            "\n",
            "Epoch 122: val_loss did not improve from 0.15183\n",
            "\n",
            "Epoch 123: val_loss improved from 0.15183 to 0.15176, saving model to Class_weights.hdf5\n",
            "\n",
            "Epoch 124: val_loss improved from 0.15176 to 0.15124, saving model to Class_weights.hdf5\n",
            "\n",
            "Epoch 125: val_loss did not improve from 0.15124\n",
            "\n",
            "Epoch 126: val_loss did not improve from 0.15124\n",
            "\n",
            "Epoch 127: val_loss did not improve from 0.15124\n",
            "\n",
            "Epoch 128: val_loss did not improve from 0.15124\n",
            "\n",
            "Epoch 129: val_loss did not improve from 0.15124\n",
            "\n",
            "Epoch 130: val_loss improved from 0.15124 to 0.15094, saving model to Class_weights.hdf5\n",
            "\n",
            "Epoch 131: val_loss did not improve from 0.15094\n",
            "\n",
            "Epoch 132: val_loss did not improve from 0.15094\n",
            "\n",
            "Epoch 133: val_loss improved from 0.15094 to 0.15078, saving model to Class_weights.hdf5\n",
            "\n",
            "Epoch 134: val_loss did not improve from 0.15078\n",
            "\n",
            "Epoch 135: val_loss improved from 0.15078 to 0.15027, saving model to Class_weights.hdf5\n",
            "\n",
            "Epoch 136: val_loss did not improve from 0.15027\n",
            "\n",
            "Epoch 137: val_loss did not improve from 0.15027\n",
            "\n",
            "Epoch 138: val_loss did not improve from 0.15027\n",
            "\n",
            "Epoch 139: val_loss improved from 0.15027 to 0.14993, saving model to Class_weights.hdf5\n",
            "\n",
            "Epoch 140: val_loss did not improve from 0.14993\n",
            "\n",
            "Epoch 141: val_loss improved from 0.14993 to 0.14991, saving model to Class_weights.hdf5\n",
            "\n",
            "Epoch 142: val_loss did not improve from 0.14991\n",
            "\n",
            "Epoch 143: val_loss improved from 0.14991 to 0.14933, saving model to Class_weights.hdf5\n",
            "\n",
            "Epoch 144: val_loss did not improve from 0.14933\n",
            "\n",
            "Epoch 145: val_loss did not improve from 0.14933\n",
            "\n",
            "Epoch 146: val_loss did not improve from 0.14933\n",
            "\n",
            "Epoch 147: val_loss did not improve from 0.14933\n",
            "\n",
            "Epoch 148: val_loss did not improve from 0.14933\n",
            "\n",
            "Epoch 149: val_loss did not improve from 0.14933\n",
            "\n",
            "Epoch 150: val_loss did not improve from 0.14933\n",
            "CPU times: user 1min, sys: 2.52 s, total: 1min 2s\n",
            "Wall time: 1min\n"
          ]
        }
      ]
    },
    {
      "cell_type": "code",
      "source": [
        "# Save the model architecture to json file for further use\n",
        "model_json = model.to_json()\n",
        "with open(\"Class_model.json\",\"w\") as json_file:\n",
        "  json_file.write(model_json)"
      ],
      "metadata": {
        "id": "MPNfFT7B7p9P"
      },
      "id": "MPNfFT7B7p9P",
      "execution_count": null,
      "outputs": []
    },
    {
      "cell_type": "code",
      "source": [
        "with open('Class_model.json', 'r') as json_file:\n",
        "    json_savedModel= json_file.read()\n",
        "\n",
        "# Load the model architecture\n",
        "model = tf.keras.models.model_from_json(json_savedModel)\n",
        "model.load_weights('Class_weights.hdf5')\n",
        "adam = tf.keras.optimizers.Adam(learning_rate=0.3)\n",
        "model.compile(optimizer='adam', loss='sparse_categorical_crossentropy', metrics=['accuracy'])"
      ],
      "metadata": {
        "id": "KGnvmAh27y1X"
      },
      "id": "KGnvmAh27y1X",
      "execution_count": null,
      "outputs": []
    },
    {
      "cell_type": "markdown",
      "source": [
        "# Evaluation"
      ],
      "metadata": {
        "id": "VAXMB-gE2kVu"
      },
      "id": "VAXMB-gE2kVu"
    },
    {
      "cell_type": "code",
      "source": [
        "# Evaluate the model\n",
        "acc = model.evaluate(X_train, y_train, verbose=0)\n",
        "print('Train Accuracy: %.3f' % acc[1])\n",
        "acc = model.evaluate(X_test, y_test, verbose=0)\n",
        "print('Test Accuracy: %.3f' % acc[1])"
      ],
      "metadata": {
        "colab": {
          "base_uri": "https://localhost:8080/"
        },
        "id": "GV4vepWyWsZN",
        "outputId": "f1597efb-1f94-4c5b-be5b-3a723f4b6543"
      },
      "id": "GV4vepWyWsZN",
      "execution_count": null,
      "outputs": [
        {
          "output_type": "stream",
          "name": "stdout",
          "text": [
            "Train Accuracy: 0.953\n",
            "Test Accuracy: 0.957\n"
          ]
        }
      ]
    },
    {
      "cell_type": "code",
      "source": [
        "# Plot loss during training\n",
        "plt.title('Model loss', fontsize=13)\n",
        "plt.xlabel('Epoch', fontsize=12)\n",
        "plt.ylabel('Sparse categorical crossentropy', fontsize=12)\n",
        "plt.plot(history.history['loss'], label='train loss')\n",
        "plt.plot(history.history['val_loss'], label='val loss')\n",
        "plt.legend();"
      ],
      "metadata": {
        "colab": {
          "base_uri": "https://localhost:8080/",
          "height": 568
        },
        "id": "YdxbeN6vYfQa",
        "outputId": "e8ab45bb-3161-4b3d-c0c4-658ec6922ee2"
      },
      "id": "YdxbeN6vYfQa",
      "execution_count": null,
      "outputs": [
        {
          "output_type": "display_data",
          "data": {
            "text/plain": [
              "<Figure size 800x600 with 1 Axes>"
            ],
            "image/png": "[encoded data removed]"
          },
          "metadata": {}
        }
      ]
    },
    {
      "cell_type": "markdown",
      "source": [
        "We can see that validation loss decreases to a point and begins increasing again being higher than train loss. It is an indication of overfitting."
      ],
      "metadata": {
        "id": "44DVzIphOuef"
      },
      "id": "44DVzIphOuef"
    },
    {
      "cell_type": "code",
      "source": [
        "# Plot accuracy during training\n",
        "plt.subplot()\n",
        "plt.title('Accuracy')\n",
        "plt.plot(history.history['accuracy'], label='train accuracy')\n",
        "plt.plot(history.history['val_accuracy'], label='val accuracy')\n",
        "plt.legend()\n",
        "plt.show()"
      ],
      "metadata": {
        "colab": {
          "base_uri": "https://localhost:8080/",
          "height": 546
        },
        "id": "7Qj01z1bvjUe",
        "outputId": "e9eef9aa-e327-4e70-8a66-9a89e87f0472"
      },
      "id": "7Qj01z1bvjUe",
      "execution_count": null,
      "outputs": [
        {
          "output_type": "display_data",
          "data": {
            "text/plain": [
              "<Figure size 800x600 with 1 Axes>"
            ],
            "image/png": "[encoded data removed]"
          },
          "metadata": {}
        }
      ]
    },
    {
      "cell_type": "code",
      "source": [
        "# Predict probabilities for test set\n",
        "yhat_probs=model.predict(X_test)\n",
        "# Predict crisp classes for test set\n",
        "yhat_classes=np.argmax(yhat_probs,axis=1)"
      ],
      "metadata": {
        "colab": {
          "base_uri": "https://localhost:8080/"
        },
        "id": "fa3UC5mzxmLf",
        "outputId": "fa484988-c5e8-4700-d60e-9eeb2da39186"
      },
      "id": "fa3UC5mzxmLf",
      "execution_count": null,
      "outputs": [
        {
          "output_type": "stream",
          "name": "stdout",
          "text": [
            "24/24 [==============================] - 0s 1ms/step\n"
          ]
        }
      ]
    },
    {
      "cell_type": "markdown",
      "source": [
        "Our goal is to maximize recall since it is medical diagnosis and we should catch all positives. Keep in mind that `negative` is labelled as 1, `compensated_hypothyroid` as 0, `primary_hypothyroid` as 2."
      ],
      "metadata": {
        "id": "qA3UEcIh_eH_"
      },
      "id": "qA3UEcIh_eH_"
    },
    {
      "cell_type": "code",
      "source": [
        "# Create a report\n",
        "report(y_test, yhat_classes)"
      ],
      "metadata": {
        "id": "yYGmJ4A60hZ8",
        "colab": {
          "base_uri": "https://localhost:8080/",
          "height": 903
        },
        "outputId": "d766784d-3abd-47da-e71d-7635665bb2f5"
      },
      "id": "yYGmJ4A60hZ8",
      "execution_count": null,
      "outputs": [
        {
          "output_type": "stream",
          "name": "stdout",
          "text": [
            "\n",
            "===F2 scores:===\n",
            "         F2\n",
            "0  0.592784\n",
            "1  0.977784\n",
            "2  0.947368\n",
            "\n",
            "===classification report:===\n",
            "              precision    recall  f1-score   support\n",
            "\n",
            "           0       0.61      0.59      0.60        39\n",
            "           1       0.98      0.98      0.98       684\n",
            "           2       0.95      0.95      0.95        19\n",
            "\n",
            "    accuracy                           0.96       742\n",
            "   macro avg       0.84      0.84      0.84       742\n",
            "weighted avg       0.96      0.96      0.96       742\n",
            "\n",
            "\n",
            "===confusion matrix===\n"
          ]
        },
        {
          "output_type": "display_data",
          "data": {
            "text/plain": [
              "<Figure size 800x600 with 2 Axes>"
            ],
            "image/png": "[encoded data removed]"
          },
          "metadata": {}
        }
      ]
    }
  ],
  "metadata": {
    "kernelspec": {
      "display_name": "Python 3 (ipykernel)",
      "language": "python",
      "name": "python3"
    },
    "language_info": {
      "codemirror_mode": {
        "name": "ipython",
        "version": 3
      },
      "file_extension": ".py",
      "mimetype": "text/x-python",
      "name": "python",
      "nbconvert_exporter": "python",
      "pygments_lexer": "ipython3",
      "version": "3.8.16"
    },
    "colab": {
      "provenance": [],
      "toc_visible": true,
      "include_colab_link": true
    }
  },
  "nbformat": 4,
  "nbformat_minor": 5
}